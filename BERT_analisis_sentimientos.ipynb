{
 "nbformat": 4,
 "nbformat_minor": 0,
 "metadata": {
  "colab": {
   "name": "BERT_analisis_sentimientos.ipynb",
   "provenance": [],
   "collapsed_sections": [],
   "authorship_tag": "ABX9TyOfmuLJQuUxzQsFZjQXH/bz"
  },
  "kernelspec": {
   "name": "python3",
   "display_name": "Python 3"
  },
  "accelerator": "GPU",
  "widgets": {
   "application/vnd.jupyter.widget-state+json": {
    "e3e30e0984d84fe293381c20dea0bb8a": {
     "model_module": "@jupyter-widgets/controls",
     "model_name": "HBoxModel",
     "state": {
      "_view_name": "HBoxView",
      "_dom_classes": [],
      "_model_name": "HBoxModel",
      "_view_module": "@jupyter-widgets/controls",
      "_model_module_version": "1.5.0",
      "_view_count": null,
      "_view_module_version": "1.5.0",
      "box_style": "",
      "layout": "IPY_MODEL_8aa9e224697d4d208ca495383d100ea9",
      "_model_module": "@jupyter-widgets/controls",
      "children": [
       "IPY_MODEL_1c330ca1667943879b63b3f121145e0d",
       "IPY_MODEL_875d8eaae29f41d0863919104b22abeb"
      ]
     }
    },
    "8aa9e224697d4d208ca495383d100ea9": {
     "model_module": "@jupyter-widgets/base",
     "model_name": "LayoutModel",
     "state": {
      "_view_name": "LayoutView",
      "grid_template_rows": null,
      "right": null,
      "justify_content": null,
      "_view_module": "@jupyter-widgets/base",
      "overflow": null,
      "_model_module_version": "1.2.0",
      "_view_count": null,
      "flex_flow": null,
      "width": null,
      "min_width": null,
      "border": null,
      "align_items": null,
      "bottom": null,
      "_model_module": "@jupyter-widgets/base",
      "top": null,
      "grid_column": null,
      "overflow_y": null,
      "overflow_x": null,
      "grid_auto_flow": null,
      "grid_area": null,
      "grid_template_columns": null,
      "flex": null,
      "_model_name": "LayoutModel",
      "justify_items": null,
      "grid_row": null,
      "max_height": null,
      "align_content": null,
      "visibility": null,
      "align_self": null,
      "height": null,
      "min_height": null,
      "padding": null,
      "grid_auto_rows": null,
      "grid_gap": null,
      "max_width": null,
      "order": null,
      "_view_module_version": "1.2.0",
      "grid_template_areas": null,
      "object_position": null,
      "object_fit": null,
      "grid_auto_columns": null,
      "margin": null,
      "display": null,
      "left": null
     }
    },
    "1c330ca1667943879b63b3f121145e0d": {
     "model_module": "@jupyter-widgets/controls",
     "model_name": "FloatProgressModel",
     "state": {
      "_view_name": "ProgressView",
      "style": "IPY_MODEL_e0deb314b25e4fba83dcab638a85aad1",
      "_dom_classes": [],
      "description": "Downloading: 100%",
      "_model_name": "FloatProgressModel",
      "bar_style": "success",
      "max": 213450,
      "_view_module": "@jupyter-widgets/controls",
      "_model_module_version": "1.5.0",
      "value": 213450,
      "_view_count": null,
      "_view_module_version": "1.5.0",
      "orientation": "horizontal",
      "min": 0,
      "description_tooltip": null,
      "_model_module": "@jupyter-widgets/controls",
      "layout": "IPY_MODEL_fa3811c703cd4a0da0e6c7dfedf570dc"
     }
    },
    "875d8eaae29f41d0863919104b22abeb": {
     "model_module": "@jupyter-widgets/controls",
     "model_name": "HTMLModel",
     "state": {
      "_view_name": "HTMLView",
      "style": "IPY_MODEL_aebf484cd1d84d958fb53e5be66b7b45",
      "_dom_classes": [],
      "description": "",
      "_model_name": "HTMLModel",
      "placeholder": "​",
      "_view_module": "@jupyter-widgets/controls",
      "_model_module_version": "1.5.0",
      "value": " 213k/213k [00:00&lt;00:00, 240kB/s]",
      "_view_count": null,
      "_view_module_version": "1.5.0",
      "description_tooltip": null,
      "_model_module": "@jupyter-widgets/controls",
      "layout": "IPY_MODEL_fabe7b500ea74f0abf58b9801e851c44"
     }
    },
    "e0deb314b25e4fba83dcab638a85aad1": {
     "model_module": "@jupyter-widgets/controls",
     "model_name": "ProgressStyleModel",
     "state": {
      "_view_name": "StyleView",
      "_model_name": "ProgressStyleModel",
      "description_width": "initial",
      "_view_module": "@jupyter-widgets/base",
      "_model_module_version": "1.5.0",
      "_view_count": null,
      "_view_module_version": "1.2.0",
      "bar_color": null,
      "_model_module": "@jupyter-widgets/controls"
     }
    },
    "fa3811c703cd4a0da0e6c7dfedf570dc": {
     "model_module": "@jupyter-widgets/base",
     "model_name": "LayoutModel",
     "state": {
      "_view_name": "LayoutView",
      "grid_template_rows": null,
      "right": null,
      "justify_content": null,
      "_view_module": "@jupyter-widgets/base",
      "overflow": null,
      "_model_module_version": "1.2.0",
      "_view_count": null,
      "flex_flow": null,
      "width": null,
      "min_width": null,
      "border": null,
      "align_items": null,
      "bottom": null,
      "_model_module": "@jupyter-widgets/base",
      "top": null,
      "grid_column": null,
      "overflow_y": null,
      "overflow_x": null,
      "grid_auto_flow": null,
      "grid_area": null,
      "grid_template_columns": null,
      "flex": null,
      "_model_name": "LayoutModel",
      "justify_items": null,
      "grid_row": null,
      "max_height": null,
      "align_content": null,
      "visibility": null,
      "align_self": null,
      "height": null,
      "min_height": null,
      "padding": null,
      "grid_auto_rows": null,
      "grid_gap": null,
      "max_width": null,
      "order": null,
      "_view_module_version": "1.2.0",
      "grid_template_areas": null,
      "object_position": null,
      "object_fit": null,
      "grid_auto_columns": null,
      "margin": null,
      "display": null,
      "left": null
     }
    },
    "aebf484cd1d84d958fb53e5be66b7b45": {
     "model_module": "@jupyter-widgets/controls",
     "model_name": "DescriptionStyleModel",
     "state": {
      "_view_name": "StyleView",
      "_model_name": "DescriptionStyleModel",
      "description_width": "",
      "_view_module": "@jupyter-widgets/base",
      "_model_module_version": "1.5.0",
      "_view_count": null,
      "_view_module_version": "1.2.0",
      "_model_module": "@jupyter-widgets/controls"
     }
    },
    "fabe7b500ea74f0abf58b9801e851c44": {
     "model_module": "@jupyter-widgets/base",
     "model_name": "LayoutModel",
     "state": {
      "_view_name": "LayoutView",
      "grid_template_rows": null,
      "right": null,
      "justify_content": null,
      "_view_module": "@jupyter-widgets/base",
      "overflow": null,
      "_model_module_version": "1.2.0",
      "_view_count": null,
      "flex_flow": null,
      "width": null,
      "min_width": null,
      "border": null,
      "align_items": null,
      "bottom": null,
      "_model_module": "@jupyter-widgets/base",
      "top": null,
      "grid_column": null,
      "overflow_y": null,
      "overflow_x": null,
      "grid_auto_flow": null,
      "grid_area": null,
      "grid_template_columns": null,
      "flex": null,
      "_model_name": "LayoutModel",
      "justify_items": null,
      "grid_row": null,
      "max_height": null,
      "align_content": null,
      "visibility": null,
      "align_self": null,
      "height": null,
      "min_height": null,
      "padding": null,
      "grid_auto_rows": null,
      "grid_gap": null,
      "max_width": null,
      "order": null,
      "_view_module_version": "1.2.0",
      "grid_template_areas": null,
      "object_position": null,
      "object_fit": null,
      "grid_auto_columns": null,
      "margin": null,
      "display": null,
      "left": null
     }
    }
   }
  }
 },
 "cells": [
  {
   "cell_type": "markdown",
   "metadata": {
    "id": "vd82CFhYntkf",
    "colab_type": "text"
   },
   "source": [
    "# Análisis de sentimientos con BERT\n",
    "\n",
    "[Hugging Face](https://huggingface.co/)\n",
    "\n",
    "![BERT análisis sentimientos](https://drive.google.com/uc?export=view&id=1UwciEQKNZ4SoXn_c0l31hsyZ-8jLdtVf)"
   ]
  },
  {
   "cell_type": "code",
   "metadata": {
    "id": "_vbubgPZnoBz",
    "colab_type": "code",
    "colab": {
     "base_uri": "https://localhost:8080/",
     "height": 615
    },
    "executionInfo": {
     "status": "ok",
     "timestamp": 1595182614474,
     "user_tz": 300,
     "elapsed": 10257,
     "user": {
      "displayName": "Miguel Sotaquirá",
      "photoUrl": "https://lh3.googleusercontent.com/a-/AOh14Giuk6OGsE84qo69ZTgJj4B328D6GfU4etVY0q9AUg=s64",
      "userId": "08038952820764930757"
     }
    },
    "outputId": "24d53394-46d5-47c6-c186-a49b15795092"
   },
   "source": [
    "!pip install transformers"
   ],
   "execution_count": 1,
   "outputs": [
    {
     "output_type": "stream",
     "text": [
      "Collecting transformers\n",
      "\u001B[?25l  Downloading https://files.pythonhosted.org/packages/27/3c/91ed8f5c4e7ef3227b4119200fc0ed4b4fd965b1f0172021c25701087825/transformers-3.0.2-py3-none-any.whl (769kB)\n",
      "\r\u001B[K     |▍                               | 10kB 21.2MB/s eta 0:00:01\r\u001B[K     |▉                               | 20kB 28.5MB/s eta 0:00:01\r\u001B[K     |█▎                              | 30kB 32.6MB/s eta 0:00:01\r\u001B[K     |█▊                              | 40kB 36.6MB/s eta 0:00:01\r\u001B[K     |██▏                             | 51kB 19.7MB/s eta 0:00:01\r\u001B[K     |██▋                             | 61kB 16.4MB/s eta 0:00:01\r\u001B[K     |███                             | 71kB 15.2MB/s eta 0:00:01\r\u001B[K     |███▍                            | 81kB 14.6MB/s eta 0:00:01\r\u001B[K     |███▉                            | 92kB 14.1MB/s eta 0:00:01\r\u001B[K     |████▎                           | 102kB 14.7MB/s eta 0:00:01\r\u001B[K     |████▊                           | 112kB 14.7MB/s eta 0:00:01\r\u001B[K     |█████▏                          | 122kB 14.7MB/s eta 0:00:01\r\u001B[K     |█████▌                          | 133kB 14.7MB/s eta 0:00:01\r\u001B[K     |██████                          | 143kB 14.7MB/s eta 0:00:01\r\u001B[K     |██████▍                         | 153kB 14.7MB/s eta 0:00:01\r\u001B[K     |██████▉                         | 163kB 14.7MB/s eta 0:00:01\r\u001B[K     |███████▎                        | 174kB 14.7MB/s eta 0:00:01\r\u001B[K     |███████▊                        | 184kB 14.7MB/s eta 0:00:01\r\u001B[K     |████████                        | 194kB 14.7MB/s eta 0:00:01\r\u001B[K     |████████▌                       | 204kB 14.7MB/s eta 0:00:01\r\u001B[K     |█████████                       | 215kB 14.7MB/s eta 0:00:01\r\u001B[K     |█████████▍                      | 225kB 14.7MB/s eta 0:00:01\r\u001B[K     |█████████▉                      | 235kB 14.7MB/s eta 0:00:01\r\u001B[K     |██████████▎                     | 245kB 14.7MB/s eta 0:00:01\r\u001B[K     |██████████▋                     | 256kB 14.7MB/s eta 0:00:01\r\u001B[K     |███████████                     | 266kB 14.7MB/s eta 0:00:01\r\u001B[K     |███████████▌                    | 276kB 14.7MB/s eta 0:00:01\r\u001B[K     |████████████                    | 286kB 14.7MB/s eta 0:00:01\r\u001B[K     |████████████▍                   | 296kB 14.7MB/s eta 0:00:01\r\u001B[K     |████████████▉                   | 307kB 14.7MB/s eta 0:00:01\r\u001B[K     |█████████████▏                  | 317kB 14.7MB/s eta 0:00:01\r\u001B[K     |█████████████▋                  | 327kB 14.7MB/s eta 0:00:01\r\u001B[K     |██████████████                  | 337kB 14.7MB/s eta 0:00:01\r\u001B[K     |██████████████▌                 | 348kB 14.7MB/s eta 0:00:01\r\u001B[K     |███████████████                 | 358kB 14.7MB/s eta 0:00:01\r\u001B[K     |███████████████▍                | 368kB 14.7MB/s eta 0:00:01\r\u001B[K     |███████████████▊                | 378kB 14.7MB/s eta 0:00:01\r\u001B[K     |████████████████▏               | 389kB 14.7MB/s eta 0:00:01\r\u001B[K     |████████████████▋               | 399kB 14.7MB/s eta 0:00:01\r\u001B[K     |█████████████████               | 409kB 14.7MB/s eta 0:00:01\r\u001B[K     |█████████████████▌              | 419kB 14.7MB/s eta 0:00:01\r\u001B[K     |██████████████████              | 430kB 14.7MB/s eta 0:00:01\r\u001B[K     |██████████████████▎             | 440kB 14.7MB/s eta 0:00:01\r\u001B[K     |██████████████████▊             | 450kB 14.7MB/s eta 0:00:01\r\u001B[K     |███████████████████▏            | 460kB 14.7MB/s eta 0:00:01\r\u001B[K     |███████████████████▋            | 471kB 14.7MB/s eta 0:00:01\r\u001B[K     |████████████████████            | 481kB 14.7MB/s eta 0:00:01\r\u001B[K     |████████████████████▌           | 491kB 14.7MB/s eta 0:00:01\r\u001B[K     |████████████████████▉           | 501kB 14.7MB/s eta 0:00:01\r\u001B[K     |█████████████████████▎          | 512kB 14.7MB/s eta 0:00:01\r\u001B[K     |█████████████████████▊          | 522kB 14.7MB/s eta 0:00:01\r\u001B[K     |██████████████████████▏         | 532kB 14.7MB/s eta 0:00:01\r\u001B[K     |██████████████████████▋         | 542kB 14.7MB/s eta 0:00:01\r\u001B[K     |███████████████████████         | 552kB 14.7MB/s eta 0:00:01\r\u001B[K     |███████████████████████▍        | 563kB 14.7MB/s eta 0:00:01\r\u001B[K     |███████████████████████▉        | 573kB 14.7MB/s eta 0:00:01\r\u001B[K     |████████████████████████▎       | 583kB 14.7MB/s eta 0:00:01\r\u001B[K     |████████████████████████▊       | 593kB 14.7MB/s eta 0:00:01\r\u001B[K     |█████████████████████████▏      | 604kB 14.7MB/s eta 0:00:01\r\u001B[K     |█████████████████████████▋      | 614kB 14.7MB/s eta 0:00:01\r\u001B[K     |██████████████████████████      | 624kB 14.7MB/s eta 0:00:01\r\u001B[K     |██████████████████████████▍     | 634kB 14.7MB/s eta 0:00:01\r\u001B[K     |██████████████████████████▉     | 645kB 14.7MB/s eta 0:00:01\r\u001B[K     |███████████████████████████▎    | 655kB 14.7MB/s eta 0:00:01\r\u001B[K     |███████████████████████████▊    | 665kB 14.7MB/s eta 0:00:01\r\u001B[K     |████████████████████████████▏   | 675kB 14.7MB/s eta 0:00:01\r\u001B[K     |████████████████████████████▌   | 686kB 14.7MB/s eta 0:00:01\r\u001B[K     |█████████████████████████████   | 696kB 14.7MB/s eta 0:00:01\r\u001B[K     |█████████████████████████████▍  | 706kB 14.7MB/s eta 0:00:01\r\u001B[K     |█████████████████████████████▉  | 716kB 14.7MB/s eta 0:00:01\r\u001B[K     |██████████████████████████████▎ | 727kB 14.7MB/s eta 0:00:01\r\u001B[K     |██████████████████████████████▊ | 737kB 14.7MB/s eta 0:00:01\r\u001B[K     |███████████████████████████████ | 747kB 14.7MB/s eta 0:00:01\r\u001B[K     |███████████████████████████████▌| 757kB 14.7MB/s eta 0:00:01\r\u001B[K     |████████████████████████████████| 768kB 14.7MB/s eta 0:00:01\r\u001B[K     |████████████████████████████████| 778kB 14.7MB/s \n",
      "\u001B[?25hRequirement already satisfied: tqdm>=4.27 in /usr/local/lib/python3.6/dist-packages (from transformers) (4.41.1)\n",
      "Collecting tokenizers==0.8.1.rc1\n",
      "\u001B[?25l  Downloading https://files.pythonhosted.org/packages/40/d0/30d5f8d221a0ed981a186c8eb986ce1c94e3a6e87f994eae9f4aa5250217/tokenizers-0.8.1rc1-cp36-cp36m-manylinux1_x86_64.whl (3.0MB)\n",
      "\u001B[K     |████████████████████████████████| 3.0MB 58.8MB/s \n",
      "\u001B[?25hCollecting sentencepiece!=0.1.92\n",
      "\u001B[?25l  Downloading https://files.pythonhosted.org/packages/d4/a4/d0a884c4300004a78cca907a6ff9a5e9fe4f090f5d95ab341c53d28cbc58/sentencepiece-0.1.91-cp36-cp36m-manylinux1_x86_64.whl (1.1MB)\n",
      "\u001B[K     |████████████████████████████████| 1.1MB 56.2MB/s \n",
      "\u001B[?25hRequirement already satisfied: regex!=2019.12.17 in /usr/local/lib/python3.6/dist-packages (from transformers) (2019.12.20)\n",
      "Requirement already satisfied: packaging in /usr/local/lib/python3.6/dist-packages (from transformers) (20.4)\n",
      "Requirement already satisfied: requests in /usr/local/lib/python3.6/dist-packages (from transformers) (2.23.0)\n",
      "Requirement already satisfied: dataclasses; python_version < \"3.7\" in /usr/local/lib/python3.6/dist-packages (from transformers) (0.7)\n",
      "Requirement already satisfied: numpy in /usr/local/lib/python3.6/dist-packages (from transformers) (1.18.5)\n",
      "Requirement already satisfied: filelock in /usr/local/lib/python3.6/dist-packages (from transformers) (3.0.12)\n",
      "Collecting sacremoses\n",
      "\u001B[?25l  Downloading https://files.pythonhosted.org/packages/7d/34/09d19aff26edcc8eb2a01bed8e98f13a1537005d31e95233fd48216eed10/sacremoses-0.0.43.tar.gz (883kB)\n",
      "\u001B[K     |████████████████████████████████| 890kB 48.9MB/s \n",
      "\u001B[?25hRequirement already satisfied: pyparsing>=2.0.2 in /usr/local/lib/python3.6/dist-packages (from packaging->transformers) (2.4.7)\n",
      "Requirement already satisfied: six in /usr/local/lib/python3.6/dist-packages (from packaging->transformers) (1.12.0)\n",
      "Requirement already satisfied: urllib3!=1.25.0,!=1.25.1,<1.26,>=1.21.1 in /usr/local/lib/python3.6/dist-packages (from requests->transformers) (1.24.3)\n",
      "Requirement already satisfied: idna<3,>=2.5 in /usr/local/lib/python3.6/dist-packages (from requests->transformers) (2.10)\n",
      "Requirement already satisfied: certifi>=2017.4.17 in /usr/local/lib/python3.6/dist-packages (from requests->transformers) (2020.6.20)\n",
      "Requirement already satisfied: chardet<4,>=3.0.2 in /usr/local/lib/python3.6/dist-packages (from requests->transformers) (3.0.4)\n",
      "Requirement already satisfied: click in /usr/local/lib/python3.6/dist-packages (from sacremoses->transformers) (7.1.2)\n",
      "Requirement already satisfied: joblib in /usr/local/lib/python3.6/dist-packages (from sacremoses->transformers) (0.16.0)\n",
      "Building wheels for collected packages: sacremoses\n",
      "  Building wheel for sacremoses (setup.py) ... \u001B[?25l\u001B[?25hdone\n",
      "  Created wheel for sacremoses: filename=sacremoses-0.0.43-cp36-none-any.whl size=893260 sha256=4a98cc4e797ff50d0b5016aa13e3716ffeffb9f67e45252ca19c440b5d502603\n",
      "  Stored in directory: /root/.cache/pip/wheels/29/3c/fd/7ce5c3f0666dab31a50123635e6fb5e19ceb42ce38d4e58f45\n",
      "Successfully built sacremoses\n",
      "Installing collected packages: tokenizers, sentencepiece, sacremoses, transformers\n",
      "Successfully installed sacremoses-0.0.43 sentencepiece-0.1.91 tokenizers-0.8.1rc1 transformers-3.0.2\n"
     ],
     "name": "stdout"
    }
   ]
  },
  {
   "cell_type": "code",
   "metadata": {
    "id": "Mc8cWZgOo-fw",
    "colab_type": "code",
    "colab": {},
    "executionInfo": {
     "status": "ok",
     "timestamp": 1595182710408,
     "user_tz": 300,
     "elapsed": 6222,
     "user": {
      "displayName": "Miguel Sotaquirá",
      "photoUrl": "https://lh3.googleusercontent.com/a-/AOh14Giuk6OGsE84qo69ZTgJj4B328D6GfU4etVY0q9AUg=s64",
      "userId": "08038952820764930757"
     }
    }
   },
   "source": [
    "from transformers import BertModel, BertTokenizer, AdamW, get_linear_schedule_with_warmup\n",
    "import torch\n",
    "import numpy as np\n",
    "from sklearn.model_selection import train_test_split\n",
    "from torch import nn, optim\n",
    "from torch.utils.data import Dataset, DataLoader\n",
    "import pandas as pd\n",
    "from textwrap import wrap"
   ],
   "execution_count": 2,
   "outputs": []
  },
  {
   "cell_type": "code",
   "metadata": {
    "id": "2YBx1vdgTGV4",
    "colab_type": "code",
    "colab": {
     "base_uri": "https://localhost:8080/",
     "height": 34
    },
    "executionInfo": {
     "status": "ok",
     "timestamp": 1595182972536,
     "user_tz": 300,
     "elapsed": 1865,
     "user": {
      "displayName": "Miguel Sotaquirá",
      "photoUrl": "https://lh3.googleusercontent.com/a-/AOh14Giuk6OGsE84qo69ZTgJj4B328D6GfU4etVY0q9AUg=s64",
      "userId": "08038952820764930757"
     }
    },
    "outputId": "8a24bee9-15e7-4873-9603-5d1240773241"
   },
   "source": [
    "# Inicialización\n",
    "RANDOM_SEED = 42\n",
    "MAX_LEN = 200\n",
    "BATCH_SIZE = 16\n",
    "DATASET_PATH = '/content/drive/My Drive/videos/2020-07-20/BERT_sentiment_IMDB_Dataset.csv'\n",
    "NCLASSES = 2\n",
    "\n",
    "np.random.seed(RANDOM_SEED)\n",
    "torch.manual_seed(RANDOM_SEED)\n",
    "device = torch.device(\"cuda:0\" if torch.cuda.is_available() else \"cpu\")\n",
    "print(device)"
   ],
   "execution_count": 3,
   "outputs": [
    {
     "output_type": "stream",
     "text": [
      "cuda:0\n"
     ],
     "name": "stdout"
    }
   ]
  },
  {
   "cell_type": "code",
   "metadata": {
    "id": "NPax5SRMUHbL",
    "colab_type": "code",
    "colab": {
     "base_uri": "https://localhost:8080/",
     "height": 122
    },
    "executionInfo": {
     "status": "ok",
     "timestamp": 1595183077512,
     "user_tz": 300,
     "elapsed": 34394,
     "user": {
      "displayName": "Miguel Sotaquirá",
      "photoUrl": "https://lh3.googleusercontent.com/a-/AOh14Giuk6OGsE84qo69ZTgJj4B328D6GfU4etVY0q9AUg=s64",
      "userId": "08038952820764930757"
     }
    },
    "outputId": "9324dbba-73b4-4ea5-8764-69285dae1069"
   },
   "source": [
    "# Cargar dataset\n",
    "from google.colab import drive\n",
    "drive.mount('/content/drive')\n",
    "\n",
    "df = pd.read_csv(DATASET_PATH)\n",
    "df = df[0:10000]"
   ],
   "execution_count": 4,
   "outputs": [
    {
     "output_type": "stream",
     "text": [
      "Go to this URL in a browser: https://accounts.google.com/o/oauth2/auth?client_id=947318989803-6bn6qk8qdgf4n4g3pfee6491hc0brc4i.apps.googleusercontent.com&redirect_uri=urn%3aietf%3awg%3aoauth%3a2.0%3aoob&response_type=code&scope=email%20https%3a%2f%2fwww.googleapis.com%2fauth%2fdocs.test%20https%3a%2f%2fwww.googleapis.com%2fauth%2fdrive%20https%3a%2f%2fwww.googleapis.com%2fauth%2fdrive.photos.readonly%20https%3a%2f%2fwww.googleapis.com%2fauth%2fpeopleapi.readonly\n",
      "\n",
      "Enter your authorization code:\n",
      "··········\n",
      "Mounted at /content/drive\n"
     ],
     "name": "stdout"
    }
   ]
  },
  {
   "cell_type": "code",
   "metadata": {
    "id": "SypONkqHUZGA",
    "colab_type": "code",
    "colab": {
     "base_uri": "https://localhost:8080/",
     "height": 306
    },
    "executionInfo": {
     "status": "ok",
     "timestamp": 1595183136771,
     "user_tz": 300,
     "elapsed": 1423,
     "user": {
      "displayName": "Miguel Sotaquirá",
      "photoUrl": "https://lh3.googleusercontent.com/a-/AOh14Giuk6OGsE84qo69ZTgJj4B328D6GfU4etVY0q9AUg=s64",
      "userId": "08038952820764930757"
     }
    },
    "outputId": "82e3d414-4943-48e2-824b-3b877f9253e1"
   },
   "source": [
    "print(df.head())\n",
    "print(df.shape)\n",
    "print(\"\\n\".join(wrap(df['review'][200])))"
   ],
   "execution_count": 5,
   "outputs": [
    {
     "output_type": "stream",
     "text": [
      "                                              review sentiment\n",
      "0  One of the other reviewers has mentioned that ...  positive\n",
      "1  A wonderful little production. <br /><br />The...  positive\n",
      "2  I thought this was a wonderful way to spend ti...  positive\n",
      "3  Basically there's a family where a little boy ...  negative\n",
      "4  Petter Mattei's \"Love in the Time of Money\" is...  positive\n",
      "(10000, 2)\n",
      "Interesting and short television movie describes some of the\n",
      "machinations surrounding Jay Leno's replacing Carson as host of the\n",
      "Tonight Show. Film is currently very topical given the public drama\n",
      "surrounding Conan O'Brien and Jay Leno.<br /><br />The film does a\n",
      "good job of sparking viewers' interest in the events and showing some\n",
      "of the concerns of the stakeholders, particularly of the NBC\n",
      "executives. The portrayal of Ovitz was particularly compelling and\n",
      "interesting, I thought.<br /><br />Still, many of the characters were\n",
      "only very briefly limned or touched upon, and some of the acting\n",
      "seemed perfunctory. Nevertheless, an interesting story.\n"
     ],
     "name": "stdout"
    }
   ]
  },
  {
   "cell_type": "code",
   "metadata": {
    "id": "UMCr2ZBvUvoX",
    "colab_type": "code",
    "colab": {
     "base_uri": "https://localhost:8080/",
     "height": 204
    },
    "executionInfo": {
     "status": "ok",
     "timestamp": 1595183306570,
     "user_tz": 300,
     "elapsed": 1492,
     "user": {
      "displayName": "Miguel Sotaquirá",
      "photoUrl": "https://lh3.googleusercontent.com/a-/AOh14Giuk6OGsE84qo69ZTgJj4B328D6GfU4etVY0q9AUg=s64",
      "userId": "08038952820764930757"
     }
    },
    "outputId": "f56691d3-28c7-49b6-9922-4bd800dc41dd"
   },
   "source": [
    "# Reajustar dataset\n",
    "df['label'] = (df['sentiment']=='positive').astype(int)\n",
    "df.drop('sentiment', axis=1, inplace=True)\n",
    "df.head()"
   ],
   "execution_count": 6,
   "outputs": [
    {
     "output_type": "execute_result",
     "data": {
      "text/html": [
       "<div>\n",
       "<style scoped>\n",
       "    .dataframe tbody tr th:only-of-type {\n",
       "        vertical-align: middle;\n",
       "    }\n",
       "\n",
       "    .dataframe tbody tr th {\n",
       "        vertical-align: top;\n",
       "    }\n",
       "\n",
       "    .dataframe thead th {\n",
       "        text-align: right;\n",
       "    }\n",
       "</style>\n",
       "<table border=\"1\" class=\"dataframe\">\n",
       "  <thead>\n",
       "    <tr style=\"text-align: right;\">\n",
       "      <th></th>\n",
       "      <th>review</th>\n",
       "      <th>label</th>\n",
       "    </tr>\n",
       "  </thead>\n",
       "  <tbody>\n",
       "    <tr>\n",
       "      <th>0</th>\n",
       "      <td>One of the other reviewers has mentioned that ...</td>\n",
       "      <td>1</td>\n",
       "    </tr>\n",
       "    <tr>\n",
       "      <th>1</th>\n",
       "      <td>A wonderful little production. &lt;br /&gt;&lt;br /&gt;The...</td>\n",
       "      <td>1</td>\n",
       "    </tr>\n",
       "    <tr>\n",
       "      <th>2</th>\n",
       "      <td>I thought this was a wonderful way to spend ti...</td>\n",
       "      <td>1</td>\n",
       "    </tr>\n",
       "    <tr>\n",
       "      <th>3</th>\n",
       "      <td>Basically there's a family where a little boy ...</td>\n",
       "      <td>0</td>\n",
       "    </tr>\n",
       "    <tr>\n",
       "      <th>4</th>\n",
       "      <td>Petter Mattei's \"Love in the Time of Money\" is...</td>\n",
       "      <td>1</td>\n",
       "    </tr>\n",
       "  </tbody>\n",
       "</table>\n",
       "</div>"
      ],
      "text/plain": [
       "                                              review  label\n",
       "0  One of the other reviewers has mentioned that ...      1\n",
       "1  A wonderful little production. <br /><br />The...      1\n",
       "2  I thought this was a wonderful way to spend ti...      1\n",
       "3  Basically there's a family where a little boy ...      0\n",
       "4  Petter Mattei's \"Love in the Time of Money\" is...      1"
      ]
     },
     "metadata": {
      "tags": []
     },
     "execution_count": 6
    }
   ]
  },
  {
   "cell_type": "code",
   "metadata": {
    "id": "yEsKKezJVZEW",
    "colab_type": "code",
    "colab": {
     "base_uri": "https://localhost:8080/",
     "height": 66,
     "referenced_widgets": [
      "e3e30e0984d84fe293381c20dea0bb8a",
      "8aa9e224697d4d208ca495383d100ea9",
      "1c330ca1667943879b63b3f121145e0d",
      "875d8eaae29f41d0863919104b22abeb",
      "e0deb314b25e4fba83dcab638a85aad1",
      "fa3811c703cd4a0da0e6c7dfedf570dc",
      "aebf484cd1d84d958fb53e5be66b7b45",
      "fabe7b500ea74f0abf58b9801e851c44"
     ]
    },
    "executionInfo": {
     "status": "ok",
     "timestamp": 1595183560075,
     "user_tz": 300,
     "elapsed": 3909,
     "user": {
      "displayName": "Miguel Sotaquirá",
      "photoUrl": "https://lh3.googleusercontent.com/a-/AOh14Giuk6OGsE84qo69ZTgJj4B328D6GfU4etVY0q9AUg=s64",
      "userId": "08038952820764930757"
     }
    },
    "outputId": "0a69600c-5735-49da-a3b3-84119760b0d1"
   },
   "source": [
    "# TOKENIZACIÓN\n",
    "PRE_TRAINED_MODEL_NAME = 'bert-base-cased'\n",
    "tokenizer = BertTokenizer.from_pretrained(PRE_TRAINED_MODEL_NAME)"
   ],
   "execution_count": 7,
   "outputs": [
    {
     "output_type": "display_data",
     "data": {
      "application/vnd.jupyter.widget-view+json": {
       "model_id": "e3e30e0984d84fe293381c20dea0bb8a",
       "version_minor": 0,
       "version_major": 2
      },
      "text/plain": [
       "HBox(children=(FloatProgress(value=0.0, description='Downloading', max=213450.0, style=ProgressStyle(descripti…"
      ]
     },
     "metadata": {
      "tags": []
     }
    },
    {
     "output_type": "stream",
     "text": [
      "\n"
     ],
     "name": "stdout"
    }
   ]
  },
  {
   "cell_type": "code",
   "metadata": {
    "id": "LkNsk0GGWWW6",
    "colab_type": "code",
    "colab": {
     "base_uri": "https://localhost:8080/",
     "height": 68
    },
    "executionInfo": {
     "status": "ok",
     "timestamp": 1595183680949,
     "user_tz": 300,
     "elapsed": 1414,
     "user": {
      "displayName": "Miguel Sotaquirá",
      "photoUrl": "https://lh3.googleusercontent.com/a-/AOh14Giuk6OGsE84qo69ZTgJj4B328D6GfU4etVY0q9AUg=s64",
      "userId": "08038952820764930757"
     }
    },
    "outputId": "44a85379-9272-48e8-f17b-3698ff1df01a"
   },
   "source": [
    "# Ejemplo tokenización\n",
    "sample_txt = 'I really loved that movie!'\n",
    "tokens = tokenizer.tokenize(sample_txt)\n",
    "token_ids = tokenizer.convert_tokens_to_ids(tokens)\n",
    "print('Frase: ', sample_txt)\n",
    "print('Tokens: ', tokens)\n",
    "print('Tokens numéricos: ', token_ids)"
   ],
   "execution_count": 8,
   "outputs": [
    {
     "output_type": "stream",
     "text": [
      "Frase:  I really loved that movie!\n",
      "Tokens:  ['I', 'really', 'loved', 'that', 'movie', '!']\n",
      "Tokens numéricos:  [146, 1541, 3097, 1115, 2523, 106]\n"
     ],
     "name": "stdout"
    }
   ]
  },
  {
   "cell_type": "code",
   "metadata": {
    "id": "XDqgDsUqW0fO",
    "colab_type": "code",
    "colab": {},
    "executionInfo": {
     "status": "ok",
     "timestamp": 1595183976659,
     "user_tz": 300,
     "elapsed": 1019,
     "user": {
      "displayName": "Miguel Sotaquirá",
      "photoUrl": "https://lh3.googleusercontent.com/a-/AOh14Giuk6OGsE84qo69ZTgJj4B328D6GfU4etVY0q9AUg=s64",
      "userId": "08038952820764930757"
     }
    }
   },
   "source": [
    "# Codificación para introducir a BERT\n",
    "encoding = tokenizer.encode_plus(\n",
    "    sample_txt,\n",
    "    max_length = 10,\n",
    "    truncation = True,\n",
    "    add_special_tokens = True,\n",
    "    return_token_type_ids = False,\n",
    "    padding='max_length',\n",
    "    return_attention_mask = True,\n",
    "    return_tensors = 'pt'\n",
    ")"
   ],
   "execution_count": 9,
   "outputs": []
  },
  {
   "cell_type": "code",
   "metadata": {
    "id": "QfE50cS2X8uu",
    "colab_type": "code",
    "colab": {
     "base_uri": "https://localhost:8080/",
     "height": 34
    },
    "executionInfo": {
     "status": "ok",
     "timestamp": 1595183984043,
     "user_tz": 300,
     "elapsed": 972,
     "user": {
      "displayName": "Miguel Sotaquirá",
      "photoUrl": "https://lh3.googleusercontent.com/a-/AOh14Giuk6OGsE84qo69ZTgJj4B328D6GfU4etVY0q9AUg=s64",
      "userId": "08038952820764930757"
     }
    },
    "outputId": "e72a5df7-3fbb-4c3b-af92-c7ed91ea25e5"
   },
   "source": [
    "encoding.keys()"
   ],
   "execution_count": 10,
   "outputs": [
    {
     "output_type": "execute_result",
     "data": {
      "text/plain": [
       "dict_keys(['input_ids', 'attention_mask'])"
      ]
     },
     "metadata": {
      "tags": []
     },
     "execution_count": 10
    }
   ]
  },
  {
   "cell_type": "code",
   "metadata": {
    "id": "er5DlrQ9X-mG",
    "colab_type": "code",
    "colab": {
     "base_uri": "https://localhost:8080/",
     "height": 68
    },
    "executionInfo": {
     "status": "ok",
     "timestamp": 1595184058163,
     "user_tz": 300,
     "elapsed": 1642,
     "user": {
      "displayName": "Miguel Sotaquirá",
      "photoUrl": "https://lh3.googleusercontent.com/a-/AOh14Giuk6OGsE84qo69ZTgJj4B328D6GfU4etVY0q9AUg=s64",
      "userId": "08038952820764930757"
     }
    },
    "outputId": "8d2f1141-71e6-4812-dbff-5853e47b9560"
   },
   "source": [
    "print(tokenizer.convert_ids_to_tokens(encoding['input_ids'][0]))\n",
    "print(encoding['input_ids'][0])\n",
    "print(encoding['attention_mask'][0])"
   ],
   "execution_count": 11,
   "outputs": [
    {
     "output_type": "stream",
     "text": [
      "['[CLS]', 'I', 'really', 'loved', 'that', 'movie', '!', '[SEP]', '[PAD]', '[PAD]']\n",
      "tensor([ 101,  146, 1541, 3097, 1115, 2523,  106,  102,    0,    0])\n",
      "tensor([1, 1, 1, 1, 1, 1, 1, 1, 0, 0])\n"
     ],
     "name": "stdout"
    }
   ]
  },
  {
   "cell_type": "code",
   "metadata": {
    "id": "pqv-DZtzYQhm",
    "colab_type": "code",
    "colab": {},
    "executionInfo": {
     "status": "ok",
     "timestamp": 1595186242198,
     "user_tz": 300,
     "elapsed": 1328,
     "user": {
      "displayName": "Miguel Sotaquirá",
      "photoUrl": "https://lh3.googleusercontent.com/a-/AOh14Giuk6OGsE84qo69ZTgJj4B328D6GfU4etVY0q9AUg=s64",
      "userId": "08038952820764930757"
     }
    }
   },
   "source": [
    "# CREACIÓN DATASET\n",
    "\n",
    "class IMDBDataset(Dataset):\n",
    "\n",
    "  def __init__(self,reviews,labels,tokenizer,max_len):\n",
    "    self.reviews = reviews\n",
    "    self.labels = labels\n",
    "    self.tokenizer = tokenizer\n",
    "    self.max_len = max_len\n",
    "\n",
    "  def __len__(self):\n",
    "      return len(self.reviews)\n",
    "    \n",
    "  def __getitem__(self, item):\n",
    "    review = str(self.reviews[item])\n",
    "    label = self.labels[item]\n",
    "    encoding = tokenizer.encode_plus(\n",
    "        review,\n",
    "        max_length = self.max_len,\n",
    "        truncation = True,\n",
    "        add_special_tokens = True,\n",
    "        return_token_type_ids = False,\n",
    "        padding='max_length',\n",
    "        return_attention_mask = True,\n",
    "        return_tensors = 'pt'\n",
    "        )\n",
    "    \n",
    "\n",
    "    return {\n",
    "          'review': review,\n",
    "          'input_ids': encoding['input_ids'].flatten(),\n",
    "          'attention_mask': encoding['attention_mask'].flatten(),\n",
    "          'label': torch.tensor(label, dtype=torch.long)\n",
    "      } \n",
    "\n"
   ],
   "execution_count": 24,
   "outputs": []
  },
  {
   "cell_type": "code",
   "metadata": {
    "id": "NaYe0FsoaNAv",
    "colab_type": "code",
    "colab": {},
    "executionInfo": {
     "status": "ok",
     "timestamp": 1595186245811,
     "user_tz": 300,
     "elapsed": 1540,
     "user": {
      "displayName": "Miguel Sotaquirá",
      "photoUrl": "https://lh3.googleusercontent.com/a-/AOh14Giuk6OGsE84qo69ZTgJj4B328D6GfU4etVY0q9AUg=s64",
      "userId": "08038952820764930757"
     }
    }
   },
   "source": [
    "# Data loader:\n",
    "\n",
    "def data_loader(df, tokenizer, max_len, batch_size):\n",
    "  dataset = IMDBDataset(\n",
    "      reviews = df.review.to_numpy(),\n",
    "      labels = df.label.to_numpy(),\n",
    "      tokenizer = tokenizer,\n",
    "      max_len = MAX_LEN\n",
    "  )\n",
    "\n",
    "  return DataLoader(dataset, batch_size = BATCH_SIZE, num_workers = 4)"
   ],
   "execution_count": 25,
   "outputs": []
  },
  {
   "cell_type": "code",
   "metadata": {
    "id": "m9rNI4Tsa5MZ",
    "colab_type": "code",
    "colab": {},
    "executionInfo": {
     "status": "ok",
     "timestamp": 1595186248969,
     "user_tz": 300,
     "elapsed": 1348,
     "user": {
      "displayName": "Miguel Sotaquirá",
      "photoUrl": "https://lh3.googleusercontent.com/a-/AOh14Giuk6OGsE84qo69ZTgJj4B328D6GfU4etVY0q9AUg=s64",
      "userId": "08038952820764930757"
     }
    }
   },
   "source": [
    "df_train, df_test = train_test_split(df, test_size = 0.2, random_state=RANDOM_SEED)\n",
    "\n",
    "train_data_loader = data_loader(df_train, tokenizer, MAX_LEN, BATCH_SIZE)\n",
    "test_data_loader = data_loader(df_test, tokenizer, MAX_LEN, BATCH_SIZE)"
   ],
   "execution_count": 26,
   "outputs": []
  },
  {
   "cell_type": "code",
   "metadata": {
    "id": "VOnca-sVbhPX",
    "colab_type": "code",
    "colab": {},
    "executionInfo": {
     "status": "ok",
     "timestamp": 1595186916420,
     "user_tz": 300,
     "elapsed": 795,
     "user": {
      "displayName": "Miguel Sotaquirá",
      "photoUrl": "https://lh3.googleusercontent.com/a-/AOh14Giuk6OGsE84qo69ZTgJj4B328D6GfU4etVY0q9AUg=s64",
      "userId": "08038952820764930757"
     }
    }
   },
   "source": [
    "# EL MODELO!\n",
    "\n",
    "class BERTSentimentClassifier(nn.Module):\n",
    "\n",
    "  def __init__(self, n_classes):\n",
    "    super(BERTSentimentClassifier, self).__init__()\n",
    "    self.bert = BertModel.from_pretrained(PRE_TRAINED_MODEL_NAME)\n",
    "    self.drop = nn.Dropout(p=0.3)\n",
    "    self.linear = nn.Linear(self.bert.config.hidden_size, n_classes)\n",
    "\n",
    "  def forward(self, input_ids, attention_mask):\n",
    "    _, cls_output = self.bert(\n",
    "        input_ids = input_ids,\n",
    "        attention_mask = attention_mask,\n",
    "        return_dict=False\n",
    "    )\n",
    "    drop_output = self.drop(cls_output)\n",
    "    output = self.linear(drop_output)\n",
    "    return output\n",
    "\n",
    "\n"
   ],
   "execution_count": 33,
   "outputs": []
  },
  {
   "cell_type": "code",
   "metadata": {
    "id": "CanuNncKdXaF",
    "colab_type": "code",
    "colab": {},
    "executionInfo": {
     "status": "ok",
     "timestamp": 1595186924700,
     "user_tz": 300,
     "elapsed": 4986,
     "user": {
      "displayName": "Miguel Sotaquirá",
      "photoUrl": "https://lh3.googleusercontent.com/a-/AOh14Giuk6OGsE84qo69ZTgJj4B328D6GfU4etVY0q9AUg=s64",
      "userId": "08038952820764930757"
     }
    }
   },
   "source": [
    "model = BERTSentimentClassifier(NCLASSES)\n",
    "model = model.to(device)"
   ],
   "execution_count": 34,
   "outputs": []
  },
  {
   "cell_type": "code",
   "metadata": {
    "id": "S6-VlpvidgLp",
    "colab_type": "code",
    "colab": {}
   },
   "source": [
    "#print(model)\n"
   ],
   "execution_count": null,
   "outputs": []
  },
  {
   "cell_type": "code",
   "metadata": {
    "id": "Mansb6pfdn_H",
    "colab_type": "code",
    "colab": {},
    "executionInfo": {
     "status": "ok",
     "timestamp": 1595186928731,
     "user_tz": 300,
     "elapsed": 1427,
     "user": {
      "displayName": "Miguel Sotaquirá",
      "photoUrl": "https://lh3.googleusercontent.com/a-/AOh14Giuk6OGsE84qo69ZTgJj4B328D6GfU4etVY0q9AUg=s64",
      "userId": "08038952820764930757"
     }
    }
   },
   "source": [
    "# ENTRENAMIENTO\n",
    "EPOCHS = 5\n",
    "optimizer = AdamW(model.parameters(), lr=2e-5, correct_bias=False)\n",
    "total_steps = len(train_data_loader) * EPOCHS\n",
    "scheduler = get_linear_schedule_with_warmup(\n",
    "    optimizer,\n",
    "    num_warmup_steps = 0,\n",
    "    num_training_steps = total_steps\n",
    ")\n",
    "loss_fn = nn.CrossEntropyLoss().to(device)"
   ],
   "execution_count": 35,
   "outputs": []
  },
  {
   "cell_type": "code",
   "metadata": {
    "id": "ihoNOG0Zeuhz",
    "colab_type": "code",
    "colab": {},
    "executionInfo": {
     "status": "ok",
     "timestamp": 1595187521031,
     "user_tz": 300,
     "elapsed": 1902,
     "user": {
      "displayName": "Miguel Sotaquirá",
      "photoUrl": "https://lh3.googleusercontent.com/a-/AOh14Giuk6OGsE84qo69ZTgJj4B328D6GfU4etVY0q9AUg=s64",
      "userId": "08038952820764930757"
     }
    }
   },
   "source": [
    "# Iteración entrenamiento\n",
    "def train_model(model, data_loader, loss_fn, optimizer, device, scheduler, n_examples):\n",
    "  model = model.train()\n",
    "  losses = []\n",
    "  correct_predictions = 0\n",
    "  for batch in data_loader:\n",
    "    input_ids = batch['input_ids'].to(device)\n",
    "    attention_mask = batch['attention_mask'].to(device)\n",
    "    labels = batch['label'].to(device)\n",
    "    outputs = model(input_ids = input_ids, attention_mask = attention_mask)\n",
    "    _, preds = torch.max(outputs, dim=1)\n",
    "    loss = loss_fn(outputs, labels)\n",
    "    correct_predictions += torch.sum(preds == labels)\n",
    "    losses.append(loss.item())\n",
    "    loss.backward()\n",
    "    nn.utils.clip_grad_norm_(model.parameters(), max_norm=1.0)\n",
    "    optimizer.step()\n",
    "    scheduler.step()\n",
    "    optimizer.zero_grad()\n",
    "  return correct_predictions.double()/n_examples, np.mean(losses)\n",
    "\n",
    "def eval_model(model, data_loader, loss_fn, device, n_examples):\n",
    "  model = model.eval()\n",
    "  losses = []\n",
    "  correct_predictions = 0\n",
    "  with torch.no_grad():\n",
    "    for batch in data_loader:\n",
    "      input_ids = batch['input_ids'].to(device)\n",
    "      attention_mask = batch['attention_mask'].to(device)\n",
    "      labels = batch['label'].to(device)\n",
    "      outputs = model(input_ids = input_ids, attention_mask = attention_mask)\n",
    "      _, preds = torch.max(outputs, dim=1)\n",
    "      loss = loss_fn(outputs, labels)\n",
    "      correct_predictions += torch.sum(preds == labels)\n",
    "      losses.append(loss.item())\n",
    "  return correct_predictions.double()/n_examples, np.mean(losses)"
   ],
   "execution_count": 42,
   "outputs": []
  },
  {
   "cell_type": "code",
   "metadata": {
    "id": "y0aJRM-ZiXtp",
    "colab_type": "code",
    "colab": {
     "base_uri": "https://localhost:8080/",
     "height": 442
    },
    "executionInfo": {
     "status": "ok",
     "timestamp": 1595189287764,
     "user_tz": 300,
     "elapsed": 1725227,
     "user": {
      "displayName": "Miguel Sotaquirá",
      "photoUrl": "https://lh3.googleusercontent.com/a-/AOh14Giuk6OGsE84qo69ZTgJj4B328D6GfU4etVY0q9AUg=s64",
      "userId": "08038952820764930757"
     }
    },
    "outputId": "4a352fee-504b-4575-8171-97fa62fc4669"
   },
   "source": [
    "# Entrenamiento!!!\n",
    "\n",
    "for epoch in range(EPOCHS):\n",
    "  print('Epoch {} de {}'.format(epoch+1, EPOCHS))\n",
    "  print('------------------')\n",
    "  train_acc, train_loss = train_model(\n",
    "      model, train_data_loader, loss_fn, optimizer, device, scheduler, len(df_train)\n",
    "  )\n",
    "  test_acc, test_loss = eval_model(\n",
    "      model, test_data_loader, loss_fn, device, len(df_test)\n",
    "  )\n",
    "  print('Entrenamiento: Loss: {}, accuracy: {}'.format(train_loss, train_acc))\n",
    "  print('Validación: Loss: {}, accuracy: {}'.format(test_loss, test_acc))\n",
    "  print('')"
   ],
   "execution_count": 44,
   "outputs": [
    {
     "output_type": "stream",
     "text": [
      "Epoch 1 de 5\n",
      "------------------\n",
      "Entrenamiento: Loss: 0.2651677090637386, accuracy: 0.90175\n",
      "Validación: Loss: 0.3484566710740328, accuracy: 0.892\n",
      "\n",
      "Epoch 2 de 5\n",
      "------------------\n",
      "Entrenamiento: Loss: 0.178699440728873, accuracy: 0.9460000000000001\n",
      "Validación: Loss: 0.40424482348561286, accuracy: 0.8935000000000001\n",
      "\n",
      "Epoch 3 de 5\n",
      "------------------\n",
      "Entrenamiento: Loss: 0.11829778066650033, accuracy: 0.971\n",
      "Validación: Loss: 0.4401103568077087, accuracy: 0.898\n",
      "\n",
      "Epoch 4 de 5\n",
      "------------------\n",
      "Entrenamiento: Loss: 0.07990703093074263, accuracy: 0.982625\n",
      "Validación: Loss: 0.49894495904445646, accuracy: 0.8965\n",
      "\n",
      "Epoch 5 de 5\n",
      "------------------\n",
      "Entrenamiento: Loss: 0.06776802394539118, accuracy: 0.9855\n",
      "Validación: Loss: 0.49894495904445646, accuracy: 0.8965\n",
      "\n"
     ],
     "name": "stdout"
    }
   ]
  },
  {
   "cell_type": "code",
   "metadata": {
    "id": "QTG7YKnVjDA-",
    "colab_type": "code",
    "colab": {},
    "executionInfo": {
     "status": "ok",
     "timestamp": 1595189814769,
     "user_tz": 300,
     "elapsed": 1878,
     "user": {
      "displayName": "Miguel Sotaquirá",
      "photoUrl": "https://lh3.googleusercontent.com/a-/AOh14Giuk6OGsE84qo69ZTgJj4B328D6GfU4etVY0q9AUg=s64",
      "userId": "08038952820764930757"
     }
    }
   },
   "source": [
    "def classifySentiment(review_text):\n",
    "  encoding_review = tokenizer.encode_plus(\n",
    "      review_text,\n",
    "      max_length = MAX_LEN,\n",
    "      truncation = True,\n",
    "      add_special_tokens = True,\n",
    "      return_token_type_ids = False,\n",
    "      pad_to_max_length = True,\n",
    "      return_attention_mask = True,\n",
    "      return_tensors = 'pt'\n",
    "      )\n",
    "  \n",
    "  input_ids = encoding_review['input_ids'].to(device)\n",
    "  attention_mask = encoding_review['attention_mask'].to(device)\n",
    "  output = model(input_ids, attention_mask)\n",
    "  _, prediction = torch.max(output, dim=1)\n",
    "  print(\"\\n\".join(wrap(review_text)))\n",
    "  if prediction:\n",
    "    print('Sentimiento predicho: * * * * *')\n",
    "  else:\n",
    "    print('Sentimiento predicho: *')\n",
    "\n",
    "\n",
    "  "
   ],
   "execution_count": 50,
   "outputs": []
  },
  {
   "cell_type": "code",
   "metadata": {
    "id": "oe0im1_alf4K",
    "colab_type": "code",
    "colab": {
     "base_uri": "https://localhost:8080/",
     "height": 68
    },
    "executionInfo": {
     "status": "ok",
     "timestamp": 1595190071968,
     "user_tz": 300,
     "elapsed": 1698,
     "user": {
      "displayName": "Miguel Sotaquirá",
      "photoUrl": "https://lh3.googleusercontent.com/a-/AOh14Giuk6OGsE84qo69ZTgJj4B328D6GfU4etVY0q9AUg=s64",
      "userId": "08038952820764930757"
     }
    },
    "outputId": "53a1e148-5007-4de5-ddcc-b5ae837710c2"
   },
   "source": [
    "review_text = \"Avengers: Infinity War at least had the good taste to abstain from Jeremy Renner. No such luck in Endgame.\"\n",
    "\n",
    "classifySentiment(review_text)"
   ],
   "execution_count": 58,
   "outputs": [
    {
     "output_type": "stream",
     "text": [
      "Avengers: Infinity War at least had the good taste to abstain from\n",
      "Jeremy Renner. No such luck in Endgame.\n",
      "Sentiemiento predicho: *\n"
     ],
     "name": "stdout"
    }
   ]
  },
  {
   "cell_type": "code",
   "metadata": {
    "id": "rNlHECVBuDXJ",
    "colab_type": "code",
    "colab": {}
   },
   "source": [
    ""
   ],
   "execution_count": null,
   "outputs": []
  }
 ]
}